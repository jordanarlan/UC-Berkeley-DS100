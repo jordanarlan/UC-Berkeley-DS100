{
 "cells": [
  {
   "cell_type": "code",
   "execution_count": 1,
   "metadata": {},
   "outputs": [],
   "source": [
    "import matplotlib.pyplot as plt\n",
    "import numpy as np\n",
    "import pandas as pd\n",
    "import seaborn as sns\n",
    "\n",
    "sns.set_theme(style=\"darkgrid\", font_scale=1.5, rc={\"figure.figsize\": (7, 5)})\n",
    "\n",
    "rng = np.random.default_rng()"
   ]
  },
  {
   "cell_type": "code",
   "execution_count": 2,
   "metadata": {},
   "outputs": [
    {
     "data": {
      "text/html": [
       "<div>\n",
       "<style scoped>\n",
       "    .dataframe tbody tr th:only-of-type {\n",
       "        vertical-align: middle;\n",
       "    }\n",
       "\n",
       "    .dataframe tbody tr th {\n",
       "        vertical-align: top;\n",
       "    }\n",
       "\n",
       "    .dataframe thead th {\n",
       "        text-align: right;\n",
       "    }\n",
       "</style>\n",
       "<table border=\"1\" class=\"dataframe\">\n",
       "  <thead>\n",
       "    <tr style=\"text-align: right;\">\n",
       "      <th></th>\n",
       "      <th>GENDER</th>\n",
       "      <th>AGE</th>\n",
       "      <th>SMOKING</th>\n",
       "      <th>YELLOW_FINGERS</th>\n",
       "      <th>ANXIETY</th>\n",
       "      <th>PEER_PRESSURE</th>\n",
       "      <th>CHRONIC DISEASE</th>\n",
       "      <th>FATIGUE</th>\n",
       "      <th>ALLERGY</th>\n",
       "      <th>WHEEZING</th>\n",
       "      <th>ALCOHOL CONSUMING</th>\n",
       "      <th>COUGHING</th>\n",
       "      <th>SHORTNESS OF BREATH</th>\n",
       "      <th>SWALLOWING DIFFICULTY</th>\n",
       "      <th>CHEST PAIN</th>\n",
       "      <th>LUNG_CANCER</th>\n",
       "    </tr>\n",
       "  </thead>\n",
       "  <tbody>\n",
       "    <tr>\n",
       "      <th>0</th>\n",
       "      <td>M</td>\n",
       "      <td>69</td>\n",
       "      <td>1</td>\n",
       "      <td>2</td>\n",
       "      <td>2</td>\n",
       "      <td>1</td>\n",
       "      <td>1</td>\n",
       "      <td>2</td>\n",
       "      <td>1</td>\n",
       "      <td>2</td>\n",
       "      <td>2</td>\n",
       "      <td>2</td>\n",
       "      <td>2</td>\n",
       "      <td>2</td>\n",
       "      <td>2</td>\n",
       "      <td>YES</td>\n",
       "    </tr>\n",
       "    <tr>\n",
       "      <th>1</th>\n",
       "      <td>M</td>\n",
       "      <td>74</td>\n",
       "      <td>2</td>\n",
       "      <td>1</td>\n",
       "      <td>1</td>\n",
       "      <td>1</td>\n",
       "      <td>2</td>\n",
       "      <td>2</td>\n",
       "      <td>2</td>\n",
       "      <td>1</td>\n",
       "      <td>1</td>\n",
       "      <td>1</td>\n",
       "      <td>2</td>\n",
       "      <td>2</td>\n",
       "      <td>2</td>\n",
       "      <td>YES</td>\n",
       "    </tr>\n",
       "    <tr>\n",
       "      <th>2</th>\n",
       "      <td>F</td>\n",
       "      <td>59</td>\n",
       "      <td>1</td>\n",
       "      <td>1</td>\n",
       "      <td>1</td>\n",
       "      <td>2</td>\n",
       "      <td>1</td>\n",
       "      <td>2</td>\n",
       "      <td>1</td>\n",
       "      <td>2</td>\n",
       "      <td>1</td>\n",
       "      <td>2</td>\n",
       "      <td>2</td>\n",
       "      <td>1</td>\n",
       "      <td>2</td>\n",
       "      <td>NO</td>\n",
       "    </tr>\n",
       "    <tr>\n",
       "      <th>3</th>\n",
       "      <td>M</td>\n",
       "      <td>63</td>\n",
       "      <td>2</td>\n",
       "      <td>2</td>\n",
       "      <td>2</td>\n",
       "      <td>1</td>\n",
       "      <td>1</td>\n",
       "      <td>1</td>\n",
       "      <td>1</td>\n",
       "      <td>1</td>\n",
       "      <td>2</td>\n",
       "      <td>1</td>\n",
       "      <td>1</td>\n",
       "      <td>2</td>\n",
       "      <td>2</td>\n",
       "      <td>NO</td>\n",
       "    </tr>\n",
       "    <tr>\n",
       "      <th>4</th>\n",
       "      <td>F</td>\n",
       "      <td>63</td>\n",
       "      <td>1</td>\n",
       "      <td>2</td>\n",
       "      <td>1</td>\n",
       "      <td>1</td>\n",
       "      <td>1</td>\n",
       "      <td>1</td>\n",
       "      <td>1</td>\n",
       "      <td>2</td>\n",
       "      <td>1</td>\n",
       "      <td>2</td>\n",
       "      <td>2</td>\n",
       "      <td>1</td>\n",
       "      <td>1</td>\n",
       "      <td>NO</td>\n",
       "    </tr>\n",
       "    <tr>\n",
       "      <th>...</th>\n",
       "      <td>...</td>\n",
       "      <td>...</td>\n",
       "      <td>...</td>\n",
       "      <td>...</td>\n",
       "      <td>...</td>\n",
       "      <td>...</td>\n",
       "      <td>...</td>\n",
       "      <td>...</td>\n",
       "      <td>...</td>\n",
       "      <td>...</td>\n",
       "      <td>...</td>\n",
       "      <td>...</td>\n",
       "      <td>...</td>\n",
       "      <td>...</td>\n",
       "      <td>...</td>\n",
       "      <td>...</td>\n",
       "    </tr>\n",
       "    <tr>\n",
       "      <th>304</th>\n",
       "      <td>F</td>\n",
       "      <td>56</td>\n",
       "      <td>1</td>\n",
       "      <td>1</td>\n",
       "      <td>1</td>\n",
       "      <td>2</td>\n",
       "      <td>2</td>\n",
       "      <td>2</td>\n",
       "      <td>1</td>\n",
       "      <td>1</td>\n",
       "      <td>2</td>\n",
       "      <td>2</td>\n",
       "      <td>2</td>\n",
       "      <td>2</td>\n",
       "      <td>1</td>\n",
       "      <td>YES</td>\n",
       "    </tr>\n",
       "    <tr>\n",
       "      <th>305</th>\n",
       "      <td>M</td>\n",
       "      <td>70</td>\n",
       "      <td>2</td>\n",
       "      <td>1</td>\n",
       "      <td>1</td>\n",
       "      <td>1</td>\n",
       "      <td>1</td>\n",
       "      <td>2</td>\n",
       "      <td>2</td>\n",
       "      <td>2</td>\n",
       "      <td>2</td>\n",
       "      <td>2</td>\n",
       "      <td>2</td>\n",
       "      <td>1</td>\n",
       "      <td>2</td>\n",
       "      <td>YES</td>\n",
       "    </tr>\n",
       "    <tr>\n",
       "      <th>306</th>\n",
       "      <td>M</td>\n",
       "      <td>58</td>\n",
       "      <td>2</td>\n",
       "      <td>1</td>\n",
       "      <td>1</td>\n",
       "      <td>1</td>\n",
       "      <td>1</td>\n",
       "      <td>1</td>\n",
       "      <td>2</td>\n",
       "      <td>2</td>\n",
       "      <td>2</td>\n",
       "      <td>2</td>\n",
       "      <td>1</td>\n",
       "      <td>1</td>\n",
       "      <td>2</td>\n",
       "      <td>YES</td>\n",
       "    </tr>\n",
       "    <tr>\n",
       "      <th>307</th>\n",
       "      <td>M</td>\n",
       "      <td>67</td>\n",
       "      <td>2</td>\n",
       "      <td>1</td>\n",
       "      <td>2</td>\n",
       "      <td>1</td>\n",
       "      <td>1</td>\n",
       "      <td>2</td>\n",
       "      <td>2</td>\n",
       "      <td>1</td>\n",
       "      <td>2</td>\n",
       "      <td>2</td>\n",
       "      <td>2</td>\n",
       "      <td>1</td>\n",
       "      <td>2</td>\n",
       "      <td>YES</td>\n",
       "    </tr>\n",
       "    <tr>\n",
       "      <th>308</th>\n",
       "      <td>M</td>\n",
       "      <td>62</td>\n",
       "      <td>1</td>\n",
       "      <td>1</td>\n",
       "      <td>1</td>\n",
       "      <td>2</td>\n",
       "      <td>1</td>\n",
       "      <td>2</td>\n",
       "      <td>2</td>\n",
       "      <td>2</td>\n",
       "      <td>2</td>\n",
       "      <td>1</td>\n",
       "      <td>1</td>\n",
       "      <td>2</td>\n",
       "      <td>1</td>\n",
       "      <td>YES</td>\n",
       "    </tr>\n",
       "  </tbody>\n",
       "</table>\n",
       "<p>309 rows × 16 columns</p>\n",
       "</div>"
      ],
      "text/plain": [
       "    GENDER  AGE  SMOKING  YELLOW_FINGERS  ANXIETY  PEER_PRESSURE  \\\n",
       "0        M   69        1               2        2              1   \n",
       "1        M   74        2               1        1              1   \n",
       "2        F   59        1               1        1              2   \n",
       "3        M   63        2               2        2              1   \n",
       "4        F   63        1               2        1              1   \n",
       "..     ...  ...      ...             ...      ...            ...   \n",
       "304      F   56        1               1        1              2   \n",
       "305      M   70        2               1        1              1   \n",
       "306      M   58        2               1        1              1   \n",
       "307      M   67        2               1        2              1   \n",
       "308      M   62        1               1        1              2   \n",
       "\n",
       "     CHRONIC DISEASE  FATIGUE   ALLERGY   WHEEZING  ALCOHOL CONSUMING  \\\n",
       "0                  1         2         1         2                  2   \n",
       "1                  2         2         2         1                  1   \n",
       "2                  1         2         1         2                  1   \n",
       "3                  1         1         1         1                  2   \n",
       "4                  1         1         1         2                  1   \n",
       "..               ...       ...       ...       ...                ...   \n",
       "304                2         2         1         1                  2   \n",
       "305                1         2         2         2                  2   \n",
       "306                1         1         2         2                  2   \n",
       "307                1         2         2         1                  2   \n",
       "308                1         2         2         2                  2   \n",
       "\n",
       "     COUGHING  SHORTNESS OF BREATH  SWALLOWING DIFFICULTY  CHEST PAIN  \\\n",
       "0           2                    2                      2           2   \n",
       "1           1                    2                      2           2   \n",
       "2           2                    2                      1           2   \n",
       "3           1                    1                      2           2   \n",
       "4           2                    2                      1           1   \n",
       "..        ...                  ...                    ...         ...   \n",
       "304         2                    2                      2           1   \n",
       "305         2                    2                      1           2   \n",
       "306         2                    1                      1           2   \n",
       "307         2                    2                      1           2   \n",
       "308         1                    1                      2           1   \n",
       "\n",
       "    LUNG_CANCER  \n",
       "0           YES  \n",
       "1           YES  \n",
       "2            NO  \n",
       "3            NO  \n",
       "4            NO  \n",
       "..          ...  \n",
       "304         YES  \n",
       "305         YES  \n",
       "306         YES  \n",
       "307         YES  \n",
       "308         YES  \n",
       "\n",
       "[309 rows x 16 columns]"
      ]
     },
     "execution_count": 2,
     "metadata": {},
     "output_type": "execute_result"
    }
   ],
   "source": [
    "pop = pd.read_csv(\"/Users/jordan.arlan/Documents/DS100/Data/survey lung cancer.csv\")\n",
    "pop"
   ]
  },
  {
   "cell_type": "code",
   "execution_count": 3,
   "metadata": {},
   "outputs": [
    {
     "data": {
      "text/plain": [
       "0.8737864077669902"
      ]
     },
     "execution_count": 3,
     "metadata": {},
     "output_type": "execute_result"
    }
   ],
   "source": [
    "pop[\"Target\"] = (pop[\"LUNG_CANCER\"] == \"YES\").astype(int)\n",
    "np.mean(pop[\"Target\"])"
   ]
  },
  {
   "cell_type": "code",
   "execution_count": 4,
   "metadata": {},
   "outputs": [
    {
     "data": {
      "text/plain": [
       "0.911504424778761"
      ]
     },
     "execution_count": 4,
     "metadata": {},
     "output_type": "execute_result"
    }
   ],
   "source": [
    "sample_A = pop[pop[\"AGE\"] >= 65]\n",
    "np.mean(sample_A[\"Target\"])"
   ]
  },
  {
   "cell_type": "code",
   "execution_count": 5,
   "metadata": {},
   "outputs": [
    {
     "data": {
      "text/plain": [
       "0.3656957928802589"
      ]
     },
     "execution_count": 5,
     "metadata": {},
     "output_type": "execute_result"
    }
   ],
   "source": [
    "#relative size of sample A\n",
    "len(sample_A)/len(pop)"
   ]
  },
  {
   "cell_type": "code",
   "execution_count": 6,
   "metadata": {},
   "outputs": [],
   "source": [
    "pop['Clean_age'] = pd.qcut(pop['AGE'], 4, labels=['Q1', 'Q2', 'Q3', 'Q4'])"
   ]
  },
  {
   "cell_type": "code",
   "execution_count": 7,
   "metadata": {},
   "outputs": [
    {
     "data": {
      "text/html": [
       "<div>\n",
       "<style scoped>\n",
       "    .dataframe tbody tr th:only-of-type {\n",
       "        vertical-align: middle;\n",
       "    }\n",
       "\n",
       "    .dataframe tbody tr th {\n",
       "        vertical-align: top;\n",
       "    }\n",
       "\n",
       "    .dataframe thead th {\n",
       "        text-align: right;\n",
       "    }\n",
       "</style>\n",
       "<table border=\"1\" class=\"dataframe\">\n",
       "  <thead>\n",
       "    <tr style=\"text-align: right;\">\n",
       "      <th></th>\n",
       "      <th>Clean_age</th>\n",
       "      <th>ALCOHOL CONSUMING</th>\n",
       "      <th>AGE</th>\n",
       "      <th>SMOKING</th>\n",
       "      <th>YELLOW_FINGERS</th>\n",
       "      <th>ANXIETY</th>\n",
       "      <th>PEER_PRESSURE</th>\n",
       "      <th>CHRONIC DISEASE</th>\n",
       "      <th>FATIGUE</th>\n",
       "      <th>ALLERGY</th>\n",
       "      <th>WHEEZING</th>\n",
       "      <th>COUGHING</th>\n",
       "      <th>SHORTNESS OF BREATH</th>\n",
       "      <th>SWALLOWING DIFFICULTY</th>\n",
       "      <th>CHEST PAIN</th>\n",
       "      <th>Target</th>\n",
       "    </tr>\n",
       "  </thead>\n",
       "  <tbody>\n",
       "    <tr>\n",
       "      <th>0</th>\n",
       "      <td>Q1</td>\n",
       "      <td>1</td>\n",
       "      <td>51.194444</td>\n",
       "      <td>1.694444</td>\n",
       "      <td>1.805556</td>\n",
       "      <td>1.583333</td>\n",
       "      <td>1.527778</td>\n",
       "      <td>1.527778</td>\n",
       "      <td>1.722222</td>\n",
       "      <td>1.333333</td>\n",
       "      <td>1.333333</td>\n",
       "      <td>1.333333</td>\n",
       "      <td>1.722222</td>\n",
       "      <td>1.416667</td>\n",
       "      <td>1.361111</td>\n",
       "      <td>0.722222</td>\n",
       "    </tr>\n",
       "    <tr>\n",
       "      <th>1</th>\n",
       "      <td>Q1</td>\n",
       "      <td>2</td>\n",
       "      <td>53.857143</td>\n",
       "      <td>1.547619</td>\n",
       "      <td>1.357143</td>\n",
       "      <td>1.261905</td>\n",
       "      <td>1.500000</td>\n",
       "      <td>1.666667</td>\n",
       "      <td>1.714286</td>\n",
       "      <td>1.761905</td>\n",
       "      <td>1.714286</td>\n",
       "      <td>1.595238</td>\n",
       "      <td>1.642857</td>\n",
       "      <td>1.476190</td>\n",
       "      <td>1.809524</td>\n",
       "      <td>0.976190</td>\n",
       "    </tr>\n",
       "    <tr>\n",
       "      <th>2</th>\n",
       "      <td>Q2</td>\n",
       "      <td>1</td>\n",
       "      <td>60.194444</td>\n",
       "      <td>1.472222</td>\n",
       "      <td>1.666667</td>\n",
       "      <td>1.583333</td>\n",
       "      <td>1.500000</td>\n",
       "      <td>1.472222</td>\n",
       "      <td>1.777778</td>\n",
       "      <td>1.333333</td>\n",
       "      <td>1.333333</td>\n",
       "      <td>1.444444</td>\n",
       "      <td>1.722222</td>\n",
       "      <td>1.527778</td>\n",
       "      <td>1.388889</td>\n",
       "      <td>0.750000</td>\n",
       "    </tr>\n",
       "    <tr>\n",
       "      <th>3</th>\n",
       "      <td>Q2</td>\n",
       "      <td>2</td>\n",
       "      <td>60.093023</td>\n",
       "      <td>1.651163</td>\n",
       "      <td>1.418605</td>\n",
       "      <td>1.534884</td>\n",
       "      <td>1.441860</td>\n",
       "      <td>1.395349</td>\n",
       "      <td>1.465116</td>\n",
       "      <td>1.651163</td>\n",
       "      <td>1.674419</td>\n",
       "      <td>1.558140</td>\n",
       "      <td>1.465116</td>\n",
       "      <td>1.558140</td>\n",
       "      <td>1.697674</td>\n",
       "      <td>0.953488</td>\n",
       "    </tr>\n",
       "    <tr>\n",
       "      <th>4</th>\n",
       "      <td>Q3</td>\n",
       "      <td>1</td>\n",
       "      <td>65.526316</td>\n",
       "      <td>1.631579</td>\n",
       "      <td>1.684211</td>\n",
       "      <td>1.605263</td>\n",
       "      <td>1.710526</td>\n",
       "      <td>1.394737</td>\n",
       "      <td>1.763158</td>\n",
       "      <td>1.342105</td>\n",
       "      <td>1.447368</td>\n",
       "      <td>1.526316</td>\n",
       "      <td>1.710526</td>\n",
       "      <td>1.394737</td>\n",
       "      <td>1.289474</td>\n",
       "      <td>0.736842</td>\n",
       "    </tr>\n",
       "    <tr>\n",
       "      <th>5</th>\n",
       "      <td>Q3</td>\n",
       "      <td>2</td>\n",
       "      <td>65.511111</td>\n",
       "      <td>1.466667</td>\n",
       "      <td>1.511111</td>\n",
       "      <td>1.600000</td>\n",
       "      <td>1.355556</td>\n",
       "      <td>1.355556</td>\n",
       "      <td>1.533333</td>\n",
       "      <td>1.622222</td>\n",
       "      <td>1.622222</td>\n",
       "      <td>1.688889</td>\n",
       "      <td>1.577778</td>\n",
       "      <td>1.488889</td>\n",
       "      <td>1.644444</td>\n",
       "      <td>0.911111</td>\n",
       "    </tr>\n",
       "    <tr>\n",
       "      <th>6</th>\n",
       "      <td>Q4</td>\n",
       "      <td>1</td>\n",
       "      <td>74.518519</td>\n",
       "      <td>1.555556</td>\n",
       "      <td>1.777778</td>\n",
       "      <td>1.592593</td>\n",
       "      <td>1.629630</td>\n",
       "      <td>1.666667</td>\n",
       "      <td>1.851852</td>\n",
       "      <td>1.481481</td>\n",
       "      <td>1.555556</td>\n",
       "      <td>1.592593</td>\n",
       "      <td>1.814815</td>\n",
       "      <td>1.592593</td>\n",
       "      <td>1.481481</td>\n",
       "      <td>0.888889</td>\n",
       "    </tr>\n",
       "    <tr>\n",
       "      <th>7</th>\n",
       "      <td>Q4</td>\n",
       "      <td>2</td>\n",
       "      <td>72.857143</td>\n",
       "      <td>1.500000</td>\n",
       "      <td>1.476190</td>\n",
       "      <td>1.285714</td>\n",
       "      <td>1.428571</td>\n",
       "      <td>1.619048</td>\n",
       "      <td>1.666667</td>\n",
       "      <td>1.809524</td>\n",
       "      <td>1.690476</td>\n",
       "      <td>1.833333</td>\n",
       "      <td>1.571429</td>\n",
       "      <td>1.333333</td>\n",
       "      <td>1.666667</td>\n",
       "      <td>1.000000</td>\n",
       "    </tr>\n",
       "  </tbody>\n",
       "</table>\n",
       "</div>"
      ],
      "text/plain": [
       "  Clean_age  ALCOHOL CONSUMING        AGE   SMOKING  YELLOW_FINGERS   ANXIETY  \\\n",
       "0        Q1                  1  51.194444  1.694444        1.805556  1.583333   \n",
       "1        Q1                  2  53.857143  1.547619        1.357143  1.261905   \n",
       "2        Q2                  1  60.194444  1.472222        1.666667  1.583333   \n",
       "3        Q2                  2  60.093023  1.651163        1.418605  1.534884   \n",
       "4        Q3                  1  65.526316  1.631579        1.684211  1.605263   \n",
       "5        Q3                  2  65.511111  1.466667        1.511111  1.600000   \n",
       "6        Q4                  1  74.518519  1.555556        1.777778  1.592593   \n",
       "7        Q4                  2  72.857143  1.500000        1.476190  1.285714   \n",
       "\n",
       "   PEER_PRESSURE  CHRONIC DISEASE  FATIGUE   ALLERGY   WHEEZING  COUGHING  \\\n",
       "0       1.527778         1.527778  1.722222  1.333333  1.333333  1.333333   \n",
       "1       1.500000         1.666667  1.714286  1.761905  1.714286  1.595238   \n",
       "2       1.500000         1.472222  1.777778  1.333333  1.333333  1.444444   \n",
       "3       1.441860         1.395349  1.465116  1.651163  1.674419  1.558140   \n",
       "4       1.710526         1.394737  1.763158  1.342105  1.447368  1.526316   \n",
       "5       1.355556         1.355556  1.533333  1.622222  1.622222  1.688889   \n",
       "6       1.629630         1.666667  1.851852  1.481481  1.555556  1.592593   \n",
       "7       1.428571         1.619048  1.666667  1.809524  1.690476  1.833333   \n",
       "\n",
       "   SHORTNESS OF BREATH  SWALLOWING DIFFICULTY  CHEST PAIN    Target  \n",
       "0             1.722222               1.416667    1.361111  0.722222  \n",
       "1             1.642857               1.476190    1.809524  0.976190  \n",
       "2             1.722222               1.527778    1.388889  0.750000  \n",
       "3             1.465116               1.558140    1.697674  0.953488  \n",
       "4             1.710526               1.394737    1.289474  0.736842  \n",
       "5             1.577778               1.488889    1.644444  0.911111  \n",
       "6             1.814815               1.592593    1.481481  0.888889  \n",
       "7             1.571429               1.333333    1.666667  1.000000  "
      ]
     },
     "execution_count": 7,
     "metadata": {},
     "output_type": "execute_result"
    }
   ],
   "source": [
    "#Checking for bias in sample A\n",
    "pop_by_age_ac = pop.groupby([\"Clean_age\",\"ALCOHOL CONSUMING\"]).agg(\"mean\", numeric_only = True).reset_index()\n",
    "pop_by_age_ac"
   ]
  },
  {
   "cell_type": "code",
   "execution_count": 8,
   "metadata": {},
   "outputs": [
    {
     "data": {
      "image/png": "[encoded data removed]",
      "text/plain": [
       "<Figure size 700x500 with 1 Axes>"
      ]
     },
     "metadata": {},
     "output_type": "display_data"
    }
   ],
   "source": [
    "import matplotlib.ticker as ticker\n",
    "fig = plt.figure();\n",
    "red_blue = [\"#bf1518\", \"#397eb7\"]\n",
    "with sns.color_palette(sns.color_palette(red_blue)):\n",
    "    ax = sns.pointplot(data=pop_by_age_ac, x = \"Clean_age\", y = \"Target\", hue = \"ALCOHOL CONSUMING\")\n",
    "\n",
    "ax.set_title(\"Lung Cancer Prevalence by Alcohol Consumption\")\n",
    "fig.canvas.draw()\n",
    "new_ticks = [i.get_text() for i in ax.get_xticklabels()];\n",
    "plt.xticks(range(0, len(new_ticks), 10), new_ticks[::10]);"
   ]
  },
  {
   "cell_type": "code",
   "execution_count": 9,
   "metadata": {},
   "outputs": [
    {
     "data": {
      "text/plain": [
       "0.911504424778761"
      ]
     },
     "execution_count": 9,
     "metadata": {},
     "output_type": "execute_result"
    }
   ],
   "source": [
    "## By default, replace = False\n",
    "n = len(sample_A)\n",
    "Sample_Random = pop.sample(n, replace = False)\n",
    "\n",
    "np.mean(Sample_Random[\"Target\"])"
   ]
  },
  {
   "cell_type": "code",
   "execution_count": 10,
   "metadata": {},
   "outputs": [
    {
     "data": {
      "text/plain": [
       "0.8737864077669902"
      ]
     },
     "execution_count": 10,
     "metadata": {},
     "output_type": "execute_result"
    }
   ],
   "source": [
    "np.mean(pop[\"Target\"])"
   ]
  },
  {
   "cell_type": "code",
   "execution_count": 11,
   "metadata": {},
   "outputs": [
    {
     "data": {
      "text/plain": [
       "0.8928571428571429"
      ]
     },
     "execution_count": 11,
     "metadata": {},
     "output_type": "execute_result"
    }
   ],
   "source": [
    "## Smaller?\n",
    "n = int(len(sample_A)/2)\n",
    "Sample_Random = pop.sample(n, replace = False)\n",
    "\n",
    "np.mean(Sample_Random[\"Target\"])"
   ]
  },
  {
   "cell_type": "code",
   "execution_count": 12,
   "metadata": {},
   "outputs": [],
   "source": [
    "poll_result = []\n",
    "nrep = 1000   # number of simulations\n",
    "n = int(len(pop)/8)       # size of our sample\n",
    "for i in range(0,nrep):\n",
    "    Sample_Random = pop.sample(n, replace = False)\n",
    "    poll_result.append(np.mean(Sample_Random[\"Target\"]))"
   ]
  },
  {
   "cell_type": "code",
   "execution_count": 13,
   "metadata": {},
   "outputs": [
    {
     "data": {
      "application/vnd.plotly.v1+json": {
       "config": {
        "plotlyServerURL": "https://plot.ly"
       },
       "data": [
        {
         "box": {
          "visible": true
         },
         "fillcolor": "lightseagreen",
         "line": {
          "color": "darkgreen"
         },
         "meanline": {
          "visible": true
         },
         "opacity": 0.6,
         "type": "violin",
         "x0": "Poll Results",
         "y": [
          0.8421052631578947,
          0.9210526315789473,
          0.868421052631579,
          0.8157894736842105,
          0.8421052631578947,
          0.8421052631578947,
          0.8421052631578947,
          0.8157894736842105,
          0.868421052631579,
          0.868421052631579,
          0.7894736842105263,
          0.8421052631578947,
          0.8947368421052632,
          0.868421052631579,
          0.7894736842105263,
          0.8947368421052632,
          0.8421052631578947,
          0.8947368421052632,
          0.8947368421052632,
          0.9473684210526315,
          0.8947368421052632,
          0.8947368421052632,
          0.868421052631579,
          0.9473684210526315,
          0.9736842105263158,
          0.868421052631579,
          0.868421052631579,
          0.9210526315789473,
          0.868421052631579,
          0.9210526315789473,
          0.8947368421052632,
          0.8947368421052632,
          0.7894736842105263,
          0.7894736842105263,
          0.8947368421052632,
          0.8421052631578947,
          0.9210526315789473,
          0.868421052631579,
          0.868421052631579,
          0.868421052631579,
          0.8947368421052632,
          0.868421052631579,
          0.8947368421052632,
          0.868421052631579,
          0.8947368421052632,
          0.8421052631578947,
          0.868421052631579,
          0.9210526315789473,
          0.868421052631579,
          0.8157894736842105,
          0.9736842105263158,
          0.8157894736842105,
          0.8421052631578947,
          0.9210526315789473,
          0.7894736842105263,
          0.8157894736842105,
          0.9210526315789473,
          0.8157894736842105,
          0.8157894736842105,
          0.8157894736842105,
          0.9210526315789473,
          0.9210526315789473,
          0.9210526315789473,
          0.8947368421052632,
          0.8947368421052632,
          0.7368421052631579,
          0.868421052631579,
          0.9210526315789473,
          0.8947368421052632,
          0.7894736842105263,
          0.8947368421052632,
          0.8157894736842105,
          0.9473684210526315,
          0.8157894736842105,
          0.8947368421052632,
          0.9210526315789473,
          0.7894736842105263,
          0.8421052631578947,
          0.868421052631579,
          0.7631578947368421,
          0.9473684210526315,
          0.7631578947368421,
          0.8947368421052632,
          0.8947368421052632,
          0.9210526315789473,
          0.9210526315789473,
          0.9210526315789473,
          0.868421052631579,
          0.8421052631578947,
          0.8947368421052632,
          0.9210526315789473,
          0.9473684210526315,
          0.868421052631579,
          0.8947368421052632,
          0.868421052631579,
          0.8947368421052632,
          0.8947368421052632,
          0.8157894736842105,
          0.8421052631578947,
          0.9473684210526315,
          0.8947368421052632,
          0.8421052631578947,
          0.8421052631578947,
          0.8947368421052632,
          0.8421052631578947,
          0.868421052631579,
          0.868421052631579,
          0.868421052631579,
          0.8947368421052632,
          0.8947368421052632,
          0.7894736842105263,
          0.8421052631578947,
          0.868421052631579,
          0.8157894736842105,
          0.7894736842105263,
          0.9473684210526315,
          0.8157894736842105,
          0.8421052631578947,
          0.8157894736842105,
          0.8421052631578947,
          0.8421052631578947,
          0.8947368421052632,
          0.868421052631579,
          0.8157894736842105,
          0.868421052631579,
          0.7894736842105263,
          0.8421052631578947,
          0.9210526315789473,
          0.868421052631579,
          0.9473684210526315,
          0.868421052631579,
          0.9210526315789473,
          0.868421052631579,
          0.8421052631578947,
          0.8947368421052632,
          0.868421052631579,
          0.8947368421052632,
          0.8157894736842105,
          0.9736842105263158,
          0.8947368421052632,
          0.9210526315789473,
          0.8947368421052632,
          0.868421052631579,
          0.8947368421052632,
          0.9473684210526315,
          0.8947368421052632,
          0.9736842105263158,
          0.8157894736842105,
          0.868421052631579,
          0.8421052631578947,
          0.868421052631579,
          0.868421052631579,
          0.8421052631578947,
          0.7368421052631579,
          0.9210526315789473,
          0.9210526315789473,
          0.8157894736842105,
          0.868421052631579,
          0.8947368421052632,
          0.9473684210526315,
          0.8947368421052632,
          0.9210526315789473,
          0.8947368421052632,
          0.8947368421052632,
          0.8947368421052632,
          0.8947368421052632,
          0.8421052631578947,
          0.8947368421052632,
          0.8947368421052632,
          0.868421052631579,
          0.8947368421052632,
          0.8157894736842105,
          0.8421052631578947,
          0.8947368421052632,
          0.8947368421052632,
          0.9473684210526315,
          0.8421052631578947,
          0.8421052631578947,
          0.868421052631579,
          0.868421052631579,
          0.9210526315789473,
          0.8157894736842105,
          0.8421052631578947,
          0.9210526315789473,
          0.8421052631578947,
          0.868421052631579,
          0.868421052631579,
          0.868421052631579,
          0.868421052631579,
          0.8421052631578947,
          0.868421052631579,
          0.9473684210526315,
          0.868421052631579,
          0.8421052631578947,
          0.8947368421052632,
          0.868421052631579,
          0.868421052631579,
          0.8947368421052632,
          0.868421052631579,
          0.8947368421052632,
          0.9736842105263158,
          0.7894736842105263,
          0.868421052631579,
          0.9473684210526315,
          0.7631578947368421,
          0.7105263157894737,
          0.8947368421052632,
          0.9736842105263158,
          0.7894736842105263,
          0.8947368421052632,
          0.8947368421052632,
          0.868421052631579,
          0.868421052631579,
          0.868421052631579,
          0.8947368421052632,
          0.8421052631578947,
          0.8421052631578947,
          0.8421052631578947,
          0.8947368421052632,
          0.9473684210526315,
          0.8947368421052632,
          0.8947368421052632,
          0.868421052631579,
          0.8947368421052632,
          0.9473684210526315,
          0.9736842105263158,
          0.8421052631578947,
          0.8157894736842105,
          0.8947368421052632,
          0.9473684210526315,
          0.9210526315789473,
          0.868421052631579,
          0.9736842105263158,
          0.9210526315789473,
          0.868421052631579,
          0.8157894736842105,
          0.868421052631579,
          0.9210526315789473,
          0.9210526315789473,
          0.868421052631579,
          0.9210526315789473,
          0.9736842105263158,
          0.9210526315789473,
          0.9210526315789473,
          0.9210526315789473,
          0.8157894736842105,
          0.9210526315789473,
          0.9210526315789473,
          1,
          0.9473684210526315,
          0.9210526315789473,
          0.8947368421052632,
          0.8947368421052632,
          0.7894736842105263,
          0.868421052631579,
          0.868421052631579,
          0.8421052631578947,
          0.9210526315789473,
          0.8947368421052632,
          0.7894736842105263,
          0.868421052631579,
          0.8421052631578947,
          0.868421052631579,
          0.8421052631578947,
          0.868421052631579,
          0.7631578947368421,
          0.9736842105263158,
          0.7894736842105263,
          0.9736842105263158,
          0.868421052631579,
          0.8947368421052632,
          0.868421052631579,
          0.9210526315789473,
          0.8947368421052632,
          0.868421052631579,
          0.8947368421052632,
          0.9473684210526315,
          0.868421052631579,
          0.868421052631579,
          0.868421052631579,
          0.9473684210526315,
          0.7631578947368421,
          0.8157894736842105,
          0.868421052631579,
          0.8157894736842105,
          0.7631578947368421,
          0.868421052631579,
          0.8421052631578947,
          0.868421052631579,
          0.9210526315789473,
          0.8947368421052632,
          0.7631578947368421,
          0.8421052631578947,
          0.8421052631578947,
          0.8421052631578947,
          0.9210526315789473,
          0.8947368421052632,
          0.6842105263157895,
          0.9473684210526315,
          0.9473684210526315,
          0.868421052631579,
          0.7894736842105263,
          0.7894736842105263,
          0.868421052631579,
          0.8947368421052632,
          0.868421052631579,
          0.8947368421052632,
          0.8947368421052632,
          0.9473684210526315,
          0.8421052631578947,
          0.8947368421052632,
          0.8157894736842105,
          0.868421052631579,
          0.868421052631579,
          0.6578947368421053,
          0.868421052631579,
          0.8157894736842105,
          0.8157894736842105,
          0.8947368421052632,
          0.868421052631579,
          0.868421052631579,
          0.8157894736842105,
          0.8421052631578947,
          0.868421052631579,
          0.8421052631578947,
          0.868421052631579,
          0.868421052631579,
          0.9210526315789473,
          0.9210526315789473,
          0.868421052631579,
          0.9736842105263158,
          0.8157894736842105,
          0.8157894736842105,
          0.8157894736842105,
          0.8421052631578947,
          0.7894736842105263,
          0.8947368421052632,
          0.8421052631578947,
          0.868421052631579,
          0.8421052631578947,
          0.9473684210526315,
          0.868421052631579,
          0.8947368421052632,
          0.8421052631578947,
          0.9736842105263158,
          0.9473684210526315,
          0.8947368421052632,
          0.9473684210526315,
          0.8947368421052632,
          0.8947368421052632,
          0.868421052631579,
          0.8947368421052632,
          0.8421052631578947,
          0.868421052631579,
          0.9210526315789473,
          0.7894736842105263,
          0.7894736842105263,
          0.868421052631579,
          0.8947368421052632,
          0.8947368421052632,
          0.8421052631578947,
          0.868421052631579,
          0.8947368421052632,
          0.9473684210526315,
          0.8947368421052632,
          0.8947368421052632,
          0.8947368421052632,
          0.9473684210526315,
          0.868421052631579,
          0.868421052631579,
          0.8947368421052632,
          0.7631578947368421,
          0.9473684210526315,
          0.9210526315789473,
          0.8421052631578947,
          0.8157894736842105,
          0.8947368421052632,
          0.8947368421052632,
          0.9736842105263158,
          0.8157894736842105,
          0.9210526315789473,
          0.9210526315789473,
          0.9736842105263158,
          0.868421052631579,
          0.8947368421052632,
          0.8421052631578947,
          0.868421052631579,
          0.8157894736842105,
          0.868421052631579,
          0.868421052631579,
          0.9210526315789473,
          0.8947368421052632,
          0.8421052631578947,
          0.868421052631579,
          0.8421052631578947,
          0.9210526315789473,
          0.868421052631579,
          0.868421052631579,
          0.868421052631579,
          0.868421052631579,
          0.8157894736842105,
          0.7894736842105263,
          0.9210526315789473,
          0.868421052631579,
          0.8157894736842105,
          0.8157894736842105,
          0.8947368421052632,
          0.9210526315789473,
          0.8157894736842105,
          0.8421052631578947,
          0.9736842105263158,
          0.7894736842105263,
          0.7894736842105263,
          0.8947368421052632,
          0.8421052631578947,
          0.868421052631579,
          0.868421052631579,
          0.9210526315789473,
          0.8157894736842105,
          0.9210526315789473,
          0.9210526315789473,
          0.7894736842105263,
          0.868421052631579,
          0.7631578947368421,
          0.868421052631579,
          0.8947368421052632,
          0.8421052631578947,
          0.9473684210526315,
          0.9210526315789473,
          0.868421052631579,
          0.8157894736842105,
          0.8421052631578947,
          0.8157894736842105,
          0.8157894736842105,
          0.9210526315789473,
          0.8421052631578947,
          0.8421052631578947,
          0.7894736842105263,
          0.7894736842105263,
          0.8947368421052632,
          0.8421052631578947,
          0.868421052631579,
          0.868421052631579,
          0.8157894736842105,
          0.9210526315789473,
          0.868421052631579,
          0.9736842105263158,
          0.8157894736842105,
          0.868421052631579,
          0.868421052631579,
          0.7894736842105263,
          0.8947368421052632,
          0.7894736842105263,
          0.9473684210526315,
          0.7105263157894737,
          0.8947368421052632,
          0.8947368421052632,
          0.9210526315789473,
          0.868421052631579,
          0.9473684210526315,
          0.9210526315789473,
          0.9210526315789473,
          0.8157894736842105,
          0.7894736842105263,
          0.8947368421052632,
          0.868421052631579,
          0.8421052631578947,
          0.9473684210526315,
          0.8947368421052632,
          0.8157894736842105,
          0.868421052631579,
          0.7894736842105263,
          0.868421052631579,
          0.9736842105263158,
          0.9736842105263158,
          0.9473684210526315,
          0.7368421052631579,
          0.7631578947368421,
          0.868421052631579,
          0.7631578947368421,
          0.8421052631578947,
          0.8421052631578947,
          0.8947368421052632,
          0.7631578947368421,
          0.8947368421052632,
          0.8421052631578947,
          0.8947368421052632,
          1,
          0.8157894736842105,
          0.8947368421052632,
          0.9473684210526315,
          0.9210526315789473,
          0.8157894736842105,
          0.868421052631579,
          0.9210526315789473,
          0.868421052631579,
          0.8947368421052632,
          0.868421052631579,
          0.9210526315789473,
          0.9210526315789473,
          0.9736842105263158,
          1,
          0.868421052631579,
          0.8421052631578947,
          0.9210526315789473,
          0.8947368421052632,
          0.8947368421052632,
          0.8157894736842105,
          0.868421052631579,
          0.9473684210526315,
          0.8947368421052632,
          0.9210526315789473,
          0.9473684210526315,
          0.868421052631579,
          0.8421052631578947,
          0.8421052631578947,
          0.9210526315789473,
          0.8947368421052632,
          0.8421052631578947,
          0.868421052631579,
          0.8947368421052632,
          0.8947368421052632,
          0.8947368421052632,
          0.8157894736842105,
          0.9473684210526315,
          0.8947368421052632,
          0.8947368421052632,
          0.9210526315789473,
          0.868421052631579,
          0.8421052631578947,
          0.8421052631578947,
          0.8947368421052632,
          0.8947368421052632,
          0.9210526315789473,
          0.8421052631578947,
          0.7894736842105263,
          0.8421052631578947,
          0.8947368421052632,
          0.8421052631578947,
          0.7631578947368421,
          0.868421052631579,
          0.9736842105263158,
          0.8947368421052632,
          0.9736842105263158,
          0.7368421052631579,
          0.8947368421052632,
          0.7894736842105263,
          0.9473684210526315,
          0.8947368421052632,
          0.9210526315789473,
          0.868421052631579,
          0.7631578947368421,
          0.868421052631579,
          0.9210526315789473,
          0.8421052631578947,
          0.8947368421052632,
          0.8947368421052632,
          0.9210526315789473,
          0.8421052631578947,
          0.868421052631579,
          0.8421052631578947,
          0.868421052631579,
          0.8947368421052632,
          0.8157894736842105,
          0.8947368421052632,
          0.7631578947368421,
          0.9736842105263158,
          0.8421052631578947,
          0.8421052631578947,
          0.9736842105263158,
          0.8421052631578947,
          1,
          0.7894736842105263,
          0.7894736842105263,
          0.9473684210526315,
          0.8157894736842105,
          0.8421052631578947,
          0.8421052631578947,
          0.9473684210526315,
          0.868421052631579,
          0.8947368421052632,
          0.7894736842105263,
          0.868421052631579,
          0.9473684210526315,
          0.7894736842105263,
          0.8947368421052632,
          0.7631578947368421,
          0.868421052631579,
          0.8421052631578947,
          0.7894736842105263,
          0.8947368421052632,
          0.9210526315789473,
          0.8421052631578947,
          0.8947368421052632,
          0.9210526315789473,
          0.9473684210526315,
          0.8157894736842105,
          0.868421052631579,
          0.7894736842105263,
          0.9210526315789473,
          0.9210526315789473,
          0.7894736842105263,
          0.7368421052631579,
          0.8157894736842105,
          0.868421052631579,
          0.8947368421052632,
          0.9210526315789473,
          0.868421052631579,
          0.8421052631578947,
          0.9210526315789473,
          0.9210526315789473,
          0.8947368421052632,
          0.7105263157894737,
          0.868421052631579,
          0.8157894736842105,
          0.7894736842105263,
          0.868421052631579,
          0.8157894736842105,
          0.9210526315789473,
          0.8157894736842105,
          0.7631578947368421,
          0.8421052631578947,
          0.868421052631579,
          0.7631578947368421,
          0.868421052631579,
          0.868421052631579,
          0.9473684210526315,
          0.8421052631578947,
          0.8157894736842105,
          0.8947368421052632,
          0.9473684210526315,
          0.9473684210526315,
          0.868421052631579,
          0.9210526315789473,
          0.8157894736842105,
          0.9210526315789473,
          0.8947368421052632,
          0.9210526315789473,
          0.7894736842105263,
          0.7894736842105263,
          0.8947368421052632,
          0.9210526315789473,
          0.8421052631578947,
          0.9210526315789473,
          0.868421052631579,
          0.9210526315789473,
          0.8947368421052632,
          0.868421052631579,
          0.8947368421052632,
          0.868421052631579,
          0.868421052631579,
          0.9473684210526315,
          0.8157894736842105,
          0.9473684210526315,
          0.868421052631579,
          0.8947368421052632,
          0.8157894736842105,
          0.9210526315789473,
          0.9210526315789473,
          0.9210526315789473,
          0.8947368421052632,
          0.8421052631578947,
          0.8421052631578947,
          0.9210526315789473,
          0.9210526315789473,
          0.868421052631579,
          0.7894736842105263,
          0.868421052631579,
          0.8157894736842105,
          0.9210526315789473,
          0.868421052631579,
          0.9473684210526315,
          0.8947368421052632,
          0.7894736842105263,
          0.8947368421052632,
          0.8157894736842105,
          0.9736842105263158,
          0.8947368421052632,
          0.9736842105263158,
          0.7368421052631579,
          0.8947368421052632,
          0.868421052631579,
          0.9210526315789473,
          0.868421052631579,
          0.868421052631579,
          0.8157894736842105,
          0.868421052631579,
          0.8421052631578947,
          0.8421052631578947,
          0.8421052631578947,
          0.8421052631578947,
          0.8947368421052632,
          0.9210526315789473,
          0.8421052631578947,
          0.7631578947368421,
          0.868421052631579,
          0.8947368421052632,
          0.8421052631578947,
          0.9473684210526315,
          0.8157894736842105,
          0.8947368421052632,
          0.8947368421052632,
          0.9210526315789473,
          0.9210526315789473,
          0.8947368421052632,
          0.9210526315789473,
          0.9473684210526315,
          0.9736842105263158,
          0.9210526315789473,
          0.8421052631578947,
          0.9210526315789473,
          0.868421052631579,
          0.9736842105263158,
          0.9473684210526315,
          0.868421052631579,
          0.9736842105263158,
          0.8157894736842105,
          0.9473684210526315,
          0.8421052631578947,
          0.8157894736842105,
          0.8421052631578947,
          0.8947368421052632,
          0.868421052631579,
          0.8947368421052632,
          0.9210526315789473,
          0.9473684210526315,
          0.8947368421052632,
          0.8421052631578947,
          0.9210526315789473,
          0.8947368421052632,
          0.8157894736842105,
          0.9210526315789473,
          0.9210526315789473,
          0.8421052631578947,
          0.8157894736842105,
          0.8421052631578947,
          0.8947368421052632,
          0.8421052631578947,
          0.8421052631578947,
          0.868421052631579,
          0.9473684210526315,
          0.8157894736842105,
          0.9210526315789473,
          0.8947368421052632,
          0.9473684210526315,
          0.868421052631579,
          0.9210526315789473,
          0.8947368421052632,
          0.9210526315789473,
          0.868421052631579,
          0.9473684210526315,
          0.868421052631579,
          0.9210526315789473,
          0.8421052631578947,
          0.868421052631579,
          0.8157894736842105,
          0.9473684210526315,
          0.7894736842105263,
          0.868421052631579,
          0.8421052631578947,
          0.9210526315789473,
          0.7894736842105263,
          0.8421052631578947,
          0.7631578947368421,
          0.8421052631578947,
          0.8947368421052632,
          0.868421052631579,
          0.8947368421052632,
          0.8947368421052632,
          0.9210526315789473,
          0.868421052631579,
          0.8421052631578947,
          0.8947368421052632,
          0.8421052631578947,
          0.9473684210526315,
          0.9210526315789473,
          0.8421052631578947,
          0.868421052631579,
          0.8947368421052632,
          0.7894736842105263,
          0.8947368421052632,
          0.9736842105263158,
          0.868421052631579,
          0.9210526315789473,
          0.8421052631578947,
          0.8947368421052632,
          0.868421052631579,
          0.9210526315789473,
          0.8947368421052632,
          0.9210526315789473,
          0.8157894736842105,
          0.9210526315789473,
          0.8947368421052632,
          0.8947368421052632,
          0.9473684210526315,
          0.8947368421052632,
          0.8947368421052632,
          0.8421052631578947,
          0.8157894736842105,
          0.8947368421052632,
          0.8157894736842105,
          0.9736842105263158,
          0.868421052631579,
          0.8421052631578947,
          0.8421052631578947,
          0.8947368421052632,
          0.868421052631579,
          0.868421052631579,
          0.8421052631578947,
          0.8947368421052632,
          0.868421052631579,
          0.8947368421052632,
          0.8947368421052632,
          0.8421052631578947,
          0.9473684210526315,
          0.7894736842105263,
          0.868421052631579,
          0.8947368421052632,
          0.8947368421052632,
          0.8947368421052632,
          0.8421052631578947,
          0.8947368421052632,
          0.9736842105263158,
          0.8157894736842105,
          0.8157894736842105,
          0.9210526315789473,
          0.9736842105263158,
          0.868421052631579,
          0.8421052631578947,
          0.868421052631579,
          0.9210526315789473,
          0.868421052631579,
          0.8947368421052632,
          0.9210526315789473,
          0.8947368421052632,
          0.868421052631579,
          0.8157894736842105,
          0.868421052631579,
          0.8421052631578947,
          0.8947368421052632,
          0.868421052631579,
          0.7631578947368421,
          0.8157894736842105,
          0.868421052631579,
          0.868421052631579,
          0.8421052631578947,
          0.8157894736842105,
          0.9210526315789473,
          0.8947368421052632,
          0.8947368421052632,
          0.8947368421052632,
          0.9210526315789473,
          0.868421052631579,
          0.8947368421052632,
          0.9210526315789473,
          0.8947368421052632,
          0.8157894736842105,
          0.9210526315789473,
          0.8947368421052632,
          0.7368421052631579,
          0.8947368421052632,
          0.8157894736842105,
          0.868421052631579,
          0.8421052631578947,
          0.8157894736842105,
          0.9473684210526315,
          0.9210526315789473,
          0.8947368421052632,
          0.8421052631578947,
          0.9210526315789473,
          0.9210526315789473,
          0.9210526315789473,
          0.868421052631579,
          0.8947368421052632,
          0.8421052631578947,
          0.8157894736842105,
          0.9210526315789473,
          0.868421052631579,
          0.8947368421052632,
          0.8421052631578947,
          0.8157894736842105,
          0.7894736842105263,
          0.8421052631578947,
          0.9210526315789473,
          0.9210526315789473,
          0.9210526315789473,
          0.8157894736842105,
          0.868421052631579,
          0.8947368421052632,
          0.8421052631578947,
          0.8947368421052632,
          0.868421052631579,
          0.8421052631578947,
          0.8421052631578947,
          0.8157894736842105,
          0.8421052631578947,
          0.8947368421052632,
          0.8947368421052632,
          0.8157894736842105,
          0.9210526315789473,
          0.868421052631579,
          0.8421052631578947,
          0.8157894736842105,
          0.8947368421052632,
          0.9736842105263158,
          0.9210526315789473,
          0.9473684210526315,
          0.8421052631578947,
          0.868421052631579,
          0.9210526315789473,
          0.868421052631579,
          0.868421052631579,
          0.8421052631578947,
          0.9210526315789473,
          0.7894736842105263,
          0.9210526315789473,
          0.7894736842105263,
          0.868421052631579,
          0.9210526315789473,
          0.868421052631579,
          0.8157894736842105,
          0.8157894736842105,
          0.9210526315789473,
          0.7631578947368421,
          0.8947368421052632,
          0.868421052631579,
          0.9210526315789473,
          0.868421052631579,
          0.8947368421052632,
          0.868421052631579,
          0.9210526315789473,
          0.8421052631578947,
          1,
          0.9473684210526315,
          0.868421052631579,
          0.8947368421052632,
          0.8947368421052632,
          0.7894736842105263,
          0.9473684210526315,
          0.8157894736842105,
          0.9210526315789473,
          0.8947368421052632,
          0.9473684210526315,
          0.9210526315789473,
          0.8421052631578947,
          0.8421052631578947,
          0.9210526315789473,
          0.8947368421052632,
          0.9210526315789473,
          0.9473684210526315,
          0.8421052631578947,
          0.868421052631579,
          0.9210526315789473,
          0.8947368421052632,
          0.9473684210526315,
          0.8157894736842105,
          0.868421052631579,
          0.7894736842105263,
          0.868421052631579,
          0.8947368421052632,
          0.8157894736842105,
          0.9210526315789473,
          0.9473684210526315,
          0.9210526315789473,
          0.9473684210526315,
          0.8947368421052632,
          0.8421052631578947,
          0.9473684210526315,
          0.7368421052631579,
          0.8947368421052632,
          0.9210526315789473,
          0.868421052631579,
          0.868421052631579,
          0.9210526315789473,
          0.7894736842105263,
          0.8157894736842105,
          0.8421052631578947,
          0.868421052631579,
          0.868421052631579,
          0.868421052631579,
          0.9210526315789473,
          0.8421052631578947,
          0.8421052631578947,
          0.8421052631578947,
          0.7894736842105263,
          0.8421052631578947,
          0.9473684210526315,
          0.868421052631579,
          0.8421052631578947,
          0.9210526315789473,
          0.8421052631578947,
          0.7894736842105263,
          0.9210526315789473,
          0.868421052631579,
          0.9473684210526315,
          0.868421052631579,
          0.9210526315789473,
          0.8947368421052632,
          0.8947368421052632,
          0.9210526315789473
         ]
        }
       ],
       "layout": {
        "template": {
         "data": {
          "bar": [
           {
            "error_x": {
             "color": "#2a3f5f"
            },
            "error_y": {
             "color": "#2a3f5f"
            },
            "marker": {
             "line": {
              "color": "#E5ECF6",
              "width": 0.5
             },
             "pattern": {
              "fillmode": "overlay",
              "size": 10,
              "solidity": 0.2
             }
            },
            "type": "bar"
           }
          ],
          "barpolar": [
           {
            "marker": {
             "line": {
              "color": "#E5ECF6",
              "width": 0.5
             },
             "pattern": {
              "fillmode": "overlay",
              "size": 10,
              "solidity": 0.2
             }
            },
            "type": "barpolar"
           }
          ],
          "carpet": [
           {
            "aaxis": {
             "endlinecolor": "#2a3f5f",
             "gridcolor": "white",
             "linecolor": "white",
             "minorgridcolor": "white",
             "startlinecolor": "#2a3f5f"
            },
            "baxis": {
             "endlinecolor": "#2a3f5f",
             "gridcolor": "white",
             "linecolor": "white",
             "minorgridcolor": "white",
             "startlinecolor": "#2a3f5f"
            },
            "type": "carpet"
           }
          ],
          "choropleth": [
           {
            "colorbar": {
             "outlinewidth": 0,
             "ticks": ""
            },
            "type": "choropleth"
           }
          ],
          "contour": [
           {
            "colorbar": {
             "outlinewidth": 0,
             "ticks": ""
            },
            "colorscale": [
             [
              0,
              "#0d0887"
             ],
             [
              0.1111111111111111,
              "#46039f"
             ],
             [
              0.2222222222222222,
              "#7201a8"
             ],
             [
              0.3333333333333333,
              "#9c179e"
             ],
             [
              0.4444444444444444,
              "#bd3786"
             ],
             [
              0.5555555555555556,
              "#d8576b"
             ],
             [
              0.6666666666666666,
              "#ed7953"
             ],
             [
              0.7777777777777778,
              "#fb9f3a"
             ],
             [
              0.8888888888888888,
              "#fdca26"
             ],
             [
              1,
              "#f0f921"
             ]
            ],
            "type": "contour"
           }
          ],
          "contourcarpet": [
           {
            "colorbar": {
             "outlinewidth": 0,
             "ticks": ""
            },
            "type": "contourcarpet"
           }
          ],
          "heatmap": [
           {
            "colorbar": {
             "outlinewidth": 0,
             "ticks": ""
            },
            "colorscale": [
             [
              0,
              "#0d0887"
             ],
             [
              0.1111111111111111,
              "#46039f"
             ],
             [
              0.2222222222222222,
              "#7201a8"
             ],
             [
              0.3333333333333333,
              "#9c179e"
             ],
             [
              0.4444444444444444,
              "#bd3786"
             ],
             [
              0.5555555555555556,
              "#d8576b"
             ],
             [
              0.6666666666666666,
              "#ed7953"
             ],
             [
              0.7777777777777778,
              "#fb9f3a"
             ],
             [
              0.8888888888888888,
              "#fdca26"
             ],
             [
              1,
              "#f0f921"
             ]
            ],
            "type": "heatmap"
           }
          ],
          "heatmapgl": [
           {
            "colorbar": {
             "outlinewidth": 0,
             "ticks": ""
            },
            "colorscale": [
             [
              0,
              "#0d0887"
             ],
             [
              0.1111111111111111,
              "#46039f"
             ],
             [
              0.2222222222222222,
              "#7201a8"
             ],
             [
              0.3333333333333333,
              "#9c179e"
             ],
             [
              0.4444444444444444,
              "#bd3786"
             ],
             [
              0.5555555555555556,
              "#d8576b"
             ],
             [
              0.6666666666666666,
              "#ed7953"
             ],
             [
              0.7777777777777778,
              "#fb9f3a"
             ],
             [
              0.8888888888888888,
              "#fdca26"
             ],
             [
              1,
              "#f0f921"
             ]
            ],
            "type": "heatmapgl"
           }
          ],
          "histogram": [
           {
            "marker": {
             "pattern": {
              "fillmode": "overlay",
              "size": 10,
              "solidity": 0.2
             }
            },
            "type": "histogram"
           }
          ],
          "histogram2d": [
           {
            "colorbar": {
             "outlinewidth": 0,
             "ticks": ""
            },
            "colorscale": [
             [
              0,
              "#0d0887"
             ],
             [
              0.1111111111111111,
              "#46039f"
             ],
             [
              0.2222222222222222,
              "#7201a8"
             ],
             [
              0.3333333333333333,
              "#9c179e"
             ],
             [
              0.4444444444444444,
              "#bd3786"
             ],
             [
              0.5555555555555556,
              "#d8576b"
             ],
             [
              0.6666666666666666,
              "#ed7953"
             ],
             [
              0.7777777777777778,
              "#fb9f3a"
             ],
             [
              0.8888888888888888,
              "#fdca26"
             ],
             [
              1,
              "#f0f921"
             ]
            ],
            "type": "histogram2d"
           }
          ],
          "histogram2dcontour": [
           {
            "colorbar": {
             "outlinewidth": 0,
             "ticks": ""
            },
            "colorscale": [
             [
              0,
              "#0d0887"
             ],
             [
              0.1111111111111111,
              "#46039f"
             ],
             [
              0.2222222222222222,
              "#7201a8"
             ],
             [
              0.3333333333333333,
              "#9c179e"
             ],
             [
              0.4444444444444444,
              "#bd3786"
             ],
             [
              0.5555555555555556,
              "#d8576b"
             ],
             [
              0.6666666666666666,
              "#ed7953"
             ],
             [
              0.7777777777777778,
              "#fb9f3a"
             ],
             [
              0.8888888888888888,
              "#fdca26"
             ],
             [
              1,
              "#f0f921"
             ]
            ],
            "type": "histogram2dcontour"
           }
          ],
          "mesh3d": [
           {
            "colorbar": {
             "outlinewidth": 0,
             "ticks": ""
            },
            "type": "mesh3d"
           }
          ],
          "parcoords": [
           {
            "line": {
             "colorbar": {
              "outlinewidth": 0,
              "ticks": ""
             }
            },
            "type": "parcoords"
           }
          ],
          "pie": [
           {
            "automargin": true,
            "type": "pie"
           }
          ],
          "scatter": [
           {
            "fillpattern": {
             "fillmode": "overlay",
             "size": 10,
             "solidity": 0.2
            },
            "type": "scatter"
           }
          ],
          "scatter3d": [
           {
            "line": {
             "colorbar": {
              "outlinewidth": 0,
              "ticks": ""
             }
            },
            "marker": {
             "colorbar": {
              "outlinewidth": 0,
              "ticks": ""
             }
            },
            "type": "scatter3d"
           }
          ],
          "scattercarpet": [
           {
            "marker": {
             "colorbar": {
              "outlinewidth": 0,
              "ticks": ""
             }
            },
            "type": "scattercarpet"
           }
          ],
          "scattergeo": [
           {
            "marker": {
             "colorbar": {
              "outlinewidth": 0,
              "ticks": ""
             }
            },
            "type": "scattergeo"
           }
          ],
          "scattergl": [
           {
            "marker": {
             "colorbar": {
              "outlinewidth": 0,
              "ticks": ""
             }
            },
            "type": "scattergl"
           }
          ],
          "scattermapbox": [
           {
            "marker": {
             "colorbar": {
              "outlinewidth": 0,
              "ticks": ""
             }
            },
            "type": "scattermapbox"
           }
          ],
          "scatterpolar": [
           {
            "marker": {
             "colorbar": {
              "outlinewidth": 0,
              "ticks": ""
             }
            },
            "type": "scatterpolar"
           }
          ],
          "scatterpolargl": [
           {
            "marker": {
             "colorbar": {
              "outlinewidth": 0,
              "ticks": ""
             }
            },
            "type": "scatterpolargl"
           }
          ],
          "scatterternary": [
           {
            "marker": {
             "colorbar": {
              "outlinewidth": 0,
              "ticks": ""
             }
            },
            "type": "scatterternary"
           }
          ],
          "surface": [
           {
            "colorbar": {
             "outlinewidth": 0,
             "ticks": ""
            },
            "colorscale": [
             [
              0,
              "#0d0887"
             ],
             [
              0.1111111111111111,
              "#46039f"
             ],
             [
              0.2222222222222222,
              "#7201a8"
             ],
             [
              0.3333333333333333,
              "#9c179e"
             ],
             [
              0.4444444444444444,
              "#bd3786"
             ],
             [
              0.5555555555555556,
              "#d8576b"
             ],
             [
              0.6666666666666666,
              "#ed7953"
             ],
             [
              0.7777777777777778,
              "#fb9f3a"
             ],
             [
              0.8888888888888888,
              "#fdca26"
             ],
             [
              1,
              "#f0f921"
             ]
            ],
            "type": "surface"
           }
          ],
          "table": [
           {
            "cells": {
             "fill": {
              "color": "#EBF0F8"
             },
             "line": {
              "color": "white"
             }
            },
            "header": {
             "fill": {
              "color": "#C8D4E3"
             },
             "line": {
              "color": "white"
             }
            },
            "type": "table"
           }
          ]
         },
         "layout": {
          "annotationdefaults": {
           "arrowcolor": "#2a3f5f",
           "arrowhead": 0,
           "arrowwidth": 1
          },
          "autotypenumbers": "strict",
          "coloraxis": {
           "colorbar": {
            "outlinewidth": 0,
            "ticks": ""
           }
          },
          "colorscale": {
           "diverging": [
            [
             0,
             "#8e0152"
            ],
            [
             0.1,
             "#c51b7d"
            ],
            [
             0.2,
             "#de77ae"
            ],
            [
             0.3,
             "#f1b6da"
            ],
            [
             0.4,
             "#fde0ef"
            ],
            [
             0.5,
             "#f7f7f7"
            ],
            [
             0.6,
             "#e6f5d0"
            ],
            [
             0.7,
             "#b8e186"
            ],
            [
             0.8,
             "#7fbc41"
            ],
            [
             0.9,
             "#4d9221"
            ],
            [
             1,
             "#276419"
            ]
           ],
           "sequential": [
            [
             0,
             "#0d0887"
            ],
            [
             0.1111111111111111,
             "#46039f"
            ],
            [
             0.2222222222222222,
             "#7201a8"
            ],
            [
             0.3333333333333333,
             "#9c179e"
            ],
            [
             0.4444444444444444,
             "#bd3786"
            ],
            [
             0.5555555555555556,
             "#d8576b"
            ],
            [
             0.6666666666666666,
             "#ed7953"
            ],
            [
             0.7777777777777778,
             "#fb9f3a"
            ],
            [
             0.8888888888888888,
             "#fdca26"
            ],
            [
             1,
             "#f0f921"
            ]
           ],
           "sequentialminus": [
            [
             0,
             "#0d0887"
            ],
            [
             0.1111111111111111,
             "#46039f"
            ],
            [
             0.2222222222222222,
             "#7201a8"
            ],
            [
             0.3333333333333333,
             "#9c179e"
            ],
            [
             0.4444444444444444,
             "#bd3786"
            ],
            [
             0.5555555555555556,
             "#d8576b"
            ],
            [
             0.6666666666666666,
             "#ed7953"
            ],
            [
             0.7777777777777778,
             "#fb9f3a"
            ],
            [
             0.8888888888888888,
             "#fdca26"
            ],
            [
             1,
             "#f0f921"
            ]
           ]
          },
          "colorway": [
           "#636efa",
           "#EF553B",
           "#00cc96",
           "#ab63fa",
           "#FFA15A",
           "#19d3f3",
           "#FF6692",
           "#B6E880",
           "#FF97FF",
           "#FECB52"
          ],
          "font": {
           "color": "#2a3f5f"
          },
          "geo": {
           "bgcolor": "white",
           "lakecolor": "white",
           "landcolor": "#E5ECF6",
           "showlakes": true,
           "showland": true,
           "subunitcolor": "white"
          },
          "hoverlabel": {
           "align": "left"
          },
          "hovermode": "closest",
          "mapbox": {
           "style": "light"
          },
          "paper_bgcolor": "white",
          "plot_bgcolor": "#E5ECF6",
          "polar": {
           "angularaxis": {
            "gridcolor": "white",
            "linecolor": "white",
            "ticks": ""
           },
           "bgcolor": "#E5ECF6",
           "radialaxis": {
            "gridcolor": "white",
            "linecolor": "white",
            "ticks": ""
           }
          },
          "scene": {
           "xaxis": {
            "backgroundcolor": "#E5ECF6",
            "gridcolor": "white",
            "gridwidth": 2,
            "linecolor": "white",
            "showbackground": true,
            "ticks": "",
            "zerolinecolor": "white"
           },
           "yaxis": {
            "backgroundcolor": "#E5ECF6",
            "gridcolor": "white",
            "gridwidth": 2,
            "linecolor": "white",
            "showbackground": true,
            "ticks": "",
            "zerolinecolor": "white"
           },
           "zaxis": {
            "backgroundcolor": "#E5ECF6",
            "gridcolor": "white",
            "gridwidth": 2,
            "linecolor": "white",
            "showbackground": true,
            "ticks": "",
            "zerolinecolor": "white"
           }
          },
          "shapedefaults": {
           "line": {
            "color": "#2a3f5f"
           }
          },
          "ternary": {
           "aaxis": {
            "gridcolor": "white",
            "linecolor": "white",
            "ticks": ""
           },
           "baxis": {
            "gridcolor": "white",
            "linecolor": "white",
            "ticks": ""
           },
           "bgcolor": "#E5ECF6",
           "caxis": {
            "gridcolor": "white",
            "linecolor": "white",
            "ticks": ""
           }
          },
          "title": {
           "x": 0.05
          },
          "xaxis": {
           "automargin": true,
           "gridcolor": "white",
           "linecolor": "white",
           "ticks": "",
           "title": {
            "standoff": 15
           },
           "zerolinecolor": "white",
           "zerolinewidth": 2
          },
          "yaxis": {
           "automargin": true,
           "gridcolor": "white",
           "linecolor": "white",
           "ticks": "",
           "title": {
            "standoff": 15
           },
           "zerolinecolor": "white",
           "zerolinewidth": 2
          }
         }
        },
        "title": {
         "text": "Distribution of Poll Results"
        },
        "yaxis": {
         "title": {
          "text": "Votes"
         }
        }
       }
      }
     },
     "metadata": {},
     "output_type": "display_data"
    }
   ],
   "source": [
    "import plotly.graph_objects as go\n",
    "\n",
    "fig = go.Figure()\n",
    "\n",
    "fig.add_trace(go.Violin(\n",
    "    y=poll_result,\n",
    "    box_visible=True,\n",
    "    meanline_visible=True,\n",
    "    fillcolor='lightseagreen',\n",
    "    line_color='darkgreen',\n",
    "    opacity=0.6,\n",
    "    x0='Poll Results'\n",
    "))\n",
    "\n",
    "fig.update_layout(\n",
    "    title=\"Distribution of Poll Results\",\n",
    "    yaxis_title=\"Votes\",\n",
    ")\n",
    "\n",
    "fig.show()"
   ]
  },
  {
   "cell_type": "code",
   "execution_count": 14,
   "metadata": {},
   "outputs": [
    {
     "data": {
      "text/plain": [
       "array([[62, 26, 12],\n",
       "       [51, 38, 11],\n",
       "       [63, 29,  8],\n",
       "       [58, 36,  6],\n",
       "       [63, 30,  7],\n",
       "       [60, 31,  9],\n",
       "       [62, 28, 10],\n",
       "       [64, 25, 11],\n",
       "       [62, 26, 12],\n",
       "       [66, 25,  9],\n",
       "       [52, 35, 13],\n",
       "       [56, 28, 16],\n",
       "       [62, 28, 10],\n",
       "       [50, 37, 13],\n",
       "       [66, 22, 12],\n",
       "       [62, 29,  9],\n",
       "       [62, 33,  5],\n",
       "       [59, 32,  9],\n",
       "       [60, 32,  8],\n",
       "       [60, 34,  6]])"
      ]
     },
     "execution_count": 14,
     "metadata": {},
     "output_type": "execute_result"
    }
   ],
   "source": [
    "np.random.multinomial(100, [0.60, 0.30, 0.10], size=20)"
   ]
  }
 ],
 "metadata": {
  "kernelspec": {
   "display_name": "Python 3",
   "language": "python",
   "name": "python3"
  },
  "language_info": {
   "codemirror_mode": {
    "name": "ipython",
    "version": 3
   },
   "file_extension": ".py",
   "mimetype": "text/x-python",
   "name": "python",
   "nbconvert_exporter": "python",
   "pygments_lexer": "ipython3",
   "version": "3.11.3"
  },
  "orig_nbformat": 4
 },
 "nbformat": 4,
 "nbformat_minor": 2
}
